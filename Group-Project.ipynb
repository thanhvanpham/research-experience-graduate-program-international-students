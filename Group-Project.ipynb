{
 "cells": [
  {
   "cell_type": "markdown",
   "id": "77284955",
   "metadata": {},
   "source": [
    "# DS325 Group Project "
   ]
  },
  {
   "cell_type": "markdown",
   "id": "e3f32264",
   "metadata": {},
   "source": [
    "# Introduction:\n",
    "    According to a survey by the Council of Graduate Schools and the Graduate Record\n",
    "    Examinations Board, in the fall of 2015, about 55 percent of all graduate students in STEM\n",
    "    programs were from abroad. Meanwhile, in arts and humanities, the figure was about 16\n",
    "    percent; in business, a little more than 18 percent. These things prove the attractiveness of\n",
    "    graduate programs in the US to international students, including first-time graduate applicants\n",
    "    who earned bachelor's degrees from universities outside the US. However, there is a fact that in\n",
    "    many countries outside the US, due to the shortage of funding, undergraduate students do not\n",
    "    have the opportunity to access research programs to gain research experience or publish\n",
    "    papers. For this reason, we want to build a model to check if research experience plays a vital\n",
    "    role in the application results of international applicants for graduate programs in the US.\n",
    "\n",
    "    We intend to use the dataset https://www.kaggle.com/pandanup/college-admission-data-set that\n",
    "    we found on Kaggle (license from U.S. Government Works). This dataset has 6 features:\n",
    "        - gre\n",
    "        - gpa\n",
    "        - socioeconomic status\n",
    "        - Gender_Male\n",
    "        - race\n",
    "        - rank (prestigious level of undergrad school)\n",
    "    and we choose “admit” (0 or 1) is the target. "
   ]
  },
  {
   "cell_type": "markdown",
   "id": "2620224a",
   "metadata": {},
   "source": [
    "# Data exploration and preparation"
   ]
  },
  {
   "cell_type": "code",
   "execution_count": 141,
   "id": "b8ac35c5",
   "metadata": {},
   "outputs": [],
   "source": [
    "# Import tool for using dataframe\n",
    "import pandas as pd\n",
    "import numpy as np"
   ]
  },
  {
   "cell_type": "code",
   "execution_count": 142,
   "id": "21dc4860",
   "metadata": {},
   "outputs": [],
   "source": [
    "# Upload the csv file\n",
    "admission = pd.read_csv('College_admission.csv')"
   ]
  },
  {
   "cell_type": "code",
   "execution_count": 143,
   "id": "14657b9b",
   "metadata": {},
   "outputs": [
    {
     "data": {
      "text/html": [
       "<div>\n",
       "<style scoped>\n",
       "    .dataframe tbody tr th:only-of-type {\n",
       "        vertical-align: middle;\n",
       "    }\n",
       "\n",
       "    .dataframe tbody tr th {\n",
       "        vertical-align: top;\n",
       "    }\n",
       "\n",
       "    .dataframe thead th {\n",
       "        text-align: right;\n",
       "    }\n",
       "</style>\n",
       "<table border=\"1\" class=\"dataframe\">\n",
       "  <thead>\n",
       "    <tr style=\"text-align: right;\">\n",
       "      <th></th>\n",
       "      <th>admit</th>\n",
       "      <th>gre</th>\n",
       "      <th>gpa</th>\n",
       "      <th>ses</th>\n",
       "      <th>Gender_Male</th>\n",
       "      <th>Race</th>\n",
       "      <th>rank</th>\n",
       "    </tr>\n",
       "  </thead>\n",
       "  <tbody>\n",
       "    <tr>\n",
       "      <th>0</th>\n",
       "      <td>0</td>\n",
       "      <td>380</td>\n",
       "      <td>3.61</td>\n",
       "      <td>1</td>\n",
       "      <td>0</td>\n",
       "      <td>3</td>\n",
       "      <td>3</td>\n",
       "    </tr>\n",
       "    <tr>\n",
       "      <th>1</th>\n",
       "      <td>1</td>\n",
       "      <td>660</td>\n",
       "      <td>3.67</td>\n",
       "      <td>2</td>\n",
       "      <td>0</td>\n",
       "      <td>2</td>\n",
       "      <td>3</td>\n",
       "    </tr>\n",
       "    <tr>\n",
       "      <th>2</th>\n",
       "      <td>1</td>\n",
       "      <td>800</td>\n",
       "      <td>4.00</td>\n",
       "      <td>2</td>\n",
       "      <td>0</td>\n",
       "      <td>2</td>\n",
       "      <td>1</td>\n",
       "    </tr>\n",
       "    <tr>\n",
       "      <th>3</th>\n",
       "      <td>1</td>\n",
       "      <td>640</td>\n",
       "      <td>3.19</td>\n",
       "      <td>1</td>\n",
       "      <td>1</td>\n",
       "      <td>2</td>\n",
       "      <td>4</td>\n",
       "    </tr>\n",
       "    <tr>\n",
       "      <th>4</th>\n",
       "      <td>0</td>\n",
       "      <td>520</td>\n",
       "      <td>2.93</td>\n",
       "      <td>3</td>\n",
       "      <td>1</td>\n",
       "      <td>2</td>\n",
       "      <td>4</td>\n",
       "    </tr>\n",
       "    <tr>\n",
       "      <th>...</th>\n",
       "      <td>...</td>\n",
       "      <td>...</td>\n",
       "      <td>...</td>\n",
       "      <td>...</td>\n",
       "      <td>...</td>\n",
       "      <td>...</td>\n",
       "      <td>...</td>\n",
       "    </tr>\n",
       "    <tr>\n",
       "      <th>395</th>\n",
       "      <td>0</td>\n",
       "      <td>620</td>\n",
       "      <td>4.00</td>\n",
       "      <td>2</td>\n",
       "      <td>0</td>\n",
       "      <td>2</td>\n",
       "      <td>2</td>\n",
       "    </tr>\n",
       "    <tr>\n",
       "      <th>396</th>\n",
       "      <td>0</td>\n",
       "      <td>560</td>\n",
       "      <td>3.04</td>\n",
       "      <td>2</td>\n",
       "      <td>0</td>\n",
       "      <td>1</td>\n",
       "      <td>3</td>\n",
       "    </tr>\n",
       "    <tr>\n",
       "      <th>397</th>\n",
       "      <td>0</td>\n",
       "      <td>460</td>\n",
       "      <td>2.63</td>\n",
       "      <td>3</td>\n",
       "      <td>0</td>\n",
       "      <td>2</td>\n",
       "      <td>2</td>\n",
       "    </tr>\n",
       "    <tr>\n",
       "      <th>398</th>\n",
       "      <td>0</td>\n",
       "      <td>700</td>\n",
       "      <td>3.65</td>\n",
       "      <td>1</td>\n",
       "      <td>1</td>\n",
       "      <td>1</td>\n",
       "      <td>2</td>\n",
       "    </tr>\n",
       "    <tr>\n",
       "      <th>399</th>\n",
       "      <td>0</td>\n",
       "      <td>600</td>\n",
       "      <td>3.89</td>\n",
       "      <td>2</td>\n",
       "      <td>1</td>\n",
       "      <td>3</td>\n",
       "      <td>3</td>\n",
       "    </tr>\n",
       "  </tbody>\n",
       "</table>\n",
       "<p>400 rows × 7 columns</p>\n",
       "</div>"
      ],
      "text/plain": [
       "     admit  gre   gpa  ses  Gender_Male  Race  rank\n",
       "0        0  380  3.61    1            0     3     3\n",
       "1        1  660  3.67    2            0     2     3\n",
       "2        1  800  4.00    2            0     2     1\n",
       "3        1  640  3.19    1            1     2     4\n",
       "4        0  520  2.93    3            1     2     4\n",
       "..     ...  ...   ...  ...          ...   ...   ...\n",
       "395      0  620  4.00    2            0     2     2\n",
       "396      0  560  3.04    2            0     1     3\n",
       "397      0  460  2.63    3            0     2     2\n",
       "398      0  700  3.65    1            1     1     2\n",
       "399      0  600  3.89    2            1     3     3\n",
       "\n",
       "[400 rows x 7 columns]"
      ]
     },
     "execution_count": 143,
     "metadata": {},
     "output_type": "execute_result"
    }
   ],
   "source": [
    "admission"
   ]
  },
  {
   "cell_type": "code",
   "execution_count": 144,
   "id": "c80eec51",
   "metadata": {},
   "outputs": [
    {
     "data": {
      "text/plain": [
       "admit          0\n",
       "gre            0\n",
       "gpa            0\n",
       "ses            0\n",
       "Gender_Male    0\n",
       "Race           0\n",
       "rank           0\n",
       "dtype: int64"
      ]
     },
     "execution_count": 144,
     "metadata": {},
     "output_type": "execute_result"
    }
   ],
   "source": [
    "# check for missing data\n",
    "admission.isna().sum()"
   ]
  },
  {
   "cell_type": "code",
   "execution_count": 145,
   "id": "daee359e",
   "metadata": {},
   "outputs": [],
   "source": [
    "# Prepare data\n",
    "X = admission.drop('admit', axis = 1).to_numpy()\n",
    "y = admission['admit'].to_numpy()"
   ]
  },
  {
   "cell_type": "code",
   "execution_count": 146,
   "id": "4c1c57a4",
   "metadata": {},
   "outputs": [
    {
     "data": {
      "text/plain": [
       "array([[380.  ,   3.61,   1.  ,   0.  ,   3.  ,   3.  ],\n",
       "       [660.  ,   3.67,   2.  ,   0.  ,   2.  ,   3.  ],\n",
       "       [800.  ,   4.  ,   2.  ,   0.  ,   2.  ,   1.  ],\n",
       "       ...,\n",
       "       [460.  ,   2.63,   3.  ,   0.  ,   2.  ,   2.  ],\n",
       "       [700.  ,   3.65,   1.  ,   1.  ,   1.  ,   2.  ],\n",
       "       [600.  ,   3.89,   2.  ,   1.  ,   3.  ,   3.  ]])"
      ]
     },
     "execution_count": 146,
     "metadata": {},
     "output_type": "execute_result"
    }
   ],
   "source": [
    "X"
   ]
  },
  {
   "cell_type": "code",
   "execution_count": 147,
   "id": "68f5967f",
   "metadata": {},
   "outputs": [
    {
     "data": {
      "text/plain": [
       "array([0, 1, 1, 1, 0, 1, 1, 0, 1, 0, 0, 0, 1, 0, 1, 0, 0, 0, 0, 1, 0, 1,\n",
       "       0, 0, 1, 1, 1, 1, 1, 0, 0, 0, 0, 1, 0, 0, 0, 0, 1, 1, 0, 1, 1, 0,\n",
       "       0, 1, 1, 0, 0, 0, 0, 0, 0, 1, 0, 1, 0, 0, 0, 0, 1, 0, 0, 1, 0, 0,\n",
       "       0, 0, 0, 0, 0, 0, 0, 0, 0, 0, 0, 1, 0, 1, 0, 0, 0, 0, 1, 0, 0, 0,\n",
       "       0, 1, 0, 1, 0, 0, 1, 0, 0, 0, 0, 0, 0, 0, 0, 0, 1, 1, 1, 0, 0, 0,\n",
       "       0, 0, 0, 0, 0, 0, 1, 0, 1, 0, 1, 1, 0, 0, 0, 0, 1, 0, 0, 0, 1, 0,\n",
       "       0, 0, 0, 0, 0, 0, 0, 1, 0, 1, 0, 0, 0, 0, 0, 0, 1, 0, 1, 0, 1, 0,\n",
       "       0, 1, 0, 1, 0, 0, 0, 0, 1, 0, 0, 0, 0, 0, 0, 0, 0, 0, 0, 1, 0, 1,\n",
       "       0, 1, 0, 0, 0, 0, 0, 1, 0, 0, 0, 0, 0, 0, 1, 0, 0, 0, 1, 0, 0, 1,\n",
       "       0, 0, 0, 1, 1, 0, 1, 1, 0, 1, 0, 0, 0, 0, 0, 0, 1, 1, 0, 1, 0, 1,\n",
       "       0, 0, 1, 0, 0, 1, 0, 0, 0, 1, 0, 0, 0, 0, 1, 0, 1, 0, 0, 0, 0, 1,\n",
       "       1, 0, 0, 0, 0, 0, 0, 0, 0, 0, 1, 1, 1, 0, 1, 1, 0, 0, 0, 0, 1, 1,\n",
       "       1, 0, 0, 1, 1, 0, 1, 0, 1, 0, 0, 1, 0, 1, 1, 1, 0, 0, 0, 0, 1, 0,\n",
       "       1, 1, 0, 0, 1, 0, 0, 0, 0, 0, 0, 0, 0, 0, 0, 1, 1, 1, 0, 0, 1, 0,\n",
       "       0, 0, 0, 0, 0, 1, 0, 1, 1, 1, 1, 0, 0, 0, 0, 0, 0, 0, 0, 1, 0, 0,\n",
       "       0, 0, 0, 0, 1, 1, 0, 0, 0, 1, 0, 1, 0, 0, 0, 0, 0, 0, 0, 0, 1, 0,\n",
       "       1, 0, 1, 1, 0, 0, 1, 0, 1, 1, 0, 0, 1, 0, 0, 0, 0, 0, 1, 1, 1, 1,\n",
       "       0, 0, 0, 1, 0, 0, 0, 1, 0, 0, 1, 0, 1, 0, 0, 0, 1, 1, 1, 1, 1, 0,\n",
       "       0, 0, 0, 0], dtype=int64)"
      ]
     },
     "execution_count": 147,
     "metadata": {},
     "output_type": "execute_result"
    }
   ],
   "source": [
    "y"
   ]
  },
  {
   "cell_type": "code",
   "execution_count": 148,
   "id": "974f6bb4",
   "metadata": {},
   "outputs": [],
   "source": [
    "from sklearn.model_selection import train_test_split as TTS"
   ]
  },
  {
   "cell_type": "code",
   "execution_count": 149,
   "id": "19a88a7c",
   "metadata": {},
   "outputs": [],
   "source": [
    "X_tr, X_te, y_tr, y_te = TTS(X,y,test_size = 0.3,random_state = 0)"
   ]
  },
  {
   "cell_type": "markdown",
   "id": "3de62d71",
   "metadata": {},
   "source": [
    "# Feature selection: dependencies"
   ]
  },
  {
   "cell_type": "markdown",
   "id": "0bbd61db",
   "metadata": {},
   "source": [
    "Althought our dataset just contains 6 features, to minimize the cost, we still should consider to reduce the number of feature if possible.\n",
    "\n",
    "There's now a question of interdependence between features; if strong dependencies exist, we should remove features to arrive at an independent feature set."
   ]
  },
  {
   "cell_type": "code",
   "execution_count": 150,
   "id": "5ee2ffcc",
   "metadata": {},
   "outputs": [],
   "source": [
    "import seaborn as sb\n",
    "import matplotlib as plt"
   ]
  },
  {
   "cell_type": "code",
   "execution_count": 151,
   "id": "8995b36e",
   "metadata": {},
   "outputs": [
    {
     "data": {
      "text/plain": [
       "array([[ 1.        ,  0.36089786,  0.02232327, -0.04295565, -0.06709371,\n",
       "        -0.09480319],\n",
       "       [ 0.36089786,  1.        ,  0.03238127, -0.07851084,  0.04773737,\n",
       "        -0.04784825],\n",
       "       [ 0.02232327,  0.03238127,  1.        , -0.03161124,  0.02111075,\n",
       "         0.00181841],\n",
       "       [-0.04295565, -0.07851084, -0.03161124,  1.        , -0.11112581,\n",
       "        -0.07096519],\n",
       "       [-0.06709371,  0.04773737,  0.02111075, -0.11112581,  1.        ,\n",
       "         0.04315248],\n",
       "       [-0.09480319, -0.04784825,  0.00181841, -0.07096519,  0.04315248,\n",
       "         1.        ]])"
      ]
     },
     "execution_count": 151,
     "metadata": {},
     "output_type": "execute_result"
    }
   ],
   "source": [
    "correlation = np.corrcoef(np.transpose(X_tr))\n",
    "correlation"
   ]
  },
  {
   "cell_type": "code",
   "execution_count": 152,
   "id": "94485ece",
   "metadata": {},
   "outputs": [
    {
     "data": {
      "text/plain": [
       "<AxesSubplot:>"
      ]
     },
     "execution_count": 152,
     "metadata": {},
     "output_type": "execute_result"
    },
    {
     "data": {
      "image/png": "[encoded data removed]",
      "text/plain": [
       "<Figure size 432x288 with 2 Axes>"
      ]
     },
     "metadata": {
      "needs_background": "light"
     },
     "output_type": "display_data"
    }
   ],
   "source": [
    "sb.heatmap(correlation)"
   ]
  },
  {
   "cell_type": "markdown",
   "id": "bd9fa73d",
   "metadata": {},
   "source": [
    "It's not necessary to drop any feature in this case"
   ]
  },
  {
   "cell_type": "markdown",
   "id": "9fc64e63",
   "metadata": {},
   "source": [
    "# Visualization"
   ]
  },
  {
   "cell_type": "markdown",
   "id": "026cf563",
   "metadata": {},
   "source": [
    "Before building any further models and entering the testing phase, let's have an actual look at this data set."
   ]
  },
  {
   "cell_type": "code",
   "execution_count": 183,
   "id": "3daefd7d",
   "metadata": {},
   "outputs": [],
   "source": [
    "from sklearn.preprocessing import StandardScaler as SS\n",
    "from sklearn.decomposition import PCA\n",
    "from sklearn.manifold import TSNE"
   ]
  },
  {
   "cell_type": "code",
   "execution_count": 184,
   "id": "7837ba98",
   "metadata": {},
   "outputs": [],
   "source": [
    "# create X_1 = the data points where y_tr == 1\n",
    "X_1 = X_tr[y_tr == 1,:]\n",
    "# create y_1 = the labels from y_tr corresponding to X_1.\n",
    "y_1 = y_tr[y_tr == 1]\n",
    "# create X_0 = a random sample of data points (to match the size of X_1) from X_tr_sel2 where y_tr == 0.\n",
    "X_0 = X_tr[y_tr == 0,:][:y_tr.sum(),:]\n",
    "# create y_0 = the labels from y_tr corresponding to X_0.\n",
    "y_0 = y_tr[y_tr == 0][:y_tr.sum()]\n",
    "# Join X_1 and X_0 together into X_bal\n",
    "X_bal = np.vstack((X_1,X_0))\n",
    "y_bal = np.vstack((y_1,y_0))"
   ]
  },
  {
   "cell_type": "code",
   "execution_count": 185,
   "id": "7baa6d0e",
   "metadata": {},
   "outputs": [],
   "source": [
    "# Create the pipeline: standard scaler --> PCA --> t-SNE (reducing to 2 dimensions)\n",
    "from sklearn.pipeline import Pipeline\n",
    "pipe = Pipeline( [ ('sscaler', SS()),('pca', PCA()) ,('tsne', TSNE(n_components = 2))])"
   ]
  },
  {
   "cell_type": "code",
   "execution_count": 186,
   "id": "7425b3de",
   "metadata": {},
   "outputs": [],
   "source": [
    "# Fit this pipeline to X_bal and y_bal\n",
    "X_bal_pipe = pipe.fit_transform(X_bal)"
   ]
  },
  {
   "cell_type": "code",
   "execution_count": 187,
   "id": "33058dca",
   "metadata": {},
   "outputs": [
    {
     "data": {
      "text/plain": [
       "<matplotlib.collections.PathCollection at 0x1735cf6b190>"
      ]
     },
     "execution_count": 187,
     "metadata": {},
     "output_type": "execute_result"
    },
    {
     "data": {
      "image/png": "[encoded data removed]",
      "text/plain": [
       "<Figure size 432x288 with 1 Axes>"
      ]
     },
     "metadata": {
      "needs_background": "light"
     },
     "output_type": "display_data"
    }
   ],
   "source": [
    "# Produce the resulting scatter plot\n",
    "import matplotlib.pyplot as plt\n",
    "plt.scatter(X_bal_pipe[:,0], X_bal_pipe[:,1], c = y_bal, alpha = 0.5)"
   ]
  },
  {
   "cell_type": "markdown",
   "id": "1f8bd8a8",
   "metadata": {},
   "source": [
    "# Building, testing, and validating"
   ]
  },
  {
   "cell_type": "markdown",
   "id": "8e4c8762",
   "metadata": {},
   "source": [
    "### Logistic Regression"
   ]
  },
  {
   "cell_type": "code",
   "execution_count": 158,
   "id": "1bac012b",
   "metadata": {},
   "outputs": [],
   "source": [
    "from sklearn.linear_model import LogisticRegression"
   ]
  },
  {
   "cell_type": "code",
   "execution_count": 159,
   "id": "7f412f3d",
   "metadata": {},
   "outputs": [],
   "source": [
    "pipe = Pipeline( [ ('scaler', SS()),('pca', PCA()), ('logreg', LogisticRegression(solver = 'liblinear')) ] )"
   ]
  },
  {
   "cell_type": "code",
   "execution_count": 160,
   "id": "0e345047",
   "metadata": {},
   "outputs": [
    {
     "data": {
      "text/plain": [
       "Pipeline(steps=[('scaler', StandardScaler()), ('pca', PCA()),\n",
       "                ('logreg', LogisticRegression(solver='liblinear'))])"
      ]
     },
     "execution_count": 160,
     "metadata": {},
     "output_type": "execute_result"
    }
   ],
   "source": [
    "pipe.fit(X_tr, y_tr)"
   ]
  },
  {
   "cell_type": "code",
   "execution_count": 161,
   "id": "68646d6f",
   "metadata": {},
   "outputs": [
    {
     "data": {
      "text/plain": [
       "0.6916666666666667"
      ]
     },
     "execution_count": 161,
     "metadata": {},
     "output_type": "execute_result"
    }
   ],
   "source": [
    "pipe.score(X_te, y_te)"
   ]
  },
  {
   "cell_type": "code",
   "execution_count": 162,
   "id": "bddf722f",
   "metadata": {},
   "outputs": [
    {
     "data": {
      "text/plain": [
       "0.5294117647058824"
      ]
     },
     "execution_count": 162,
     "metadata": {},
     "output_type": "execute_result"
    }
   ],
   "source": [
    "# Check the score when predicting admit result\n",
    "pipe.score(X_te[pipe.predict(X_te) == 1], y_te[pipe.predict(X_te) == 1])"
   ]
  },
  {
   "cell_type": "code",
   "execution_count": 163,
   "id": "a067ee3c",
   "metadata": {},
   "outputs": [
    {
     "data": {
      "text/plain": [
       "0.7184466019417476"
      ]
     },
     "execution_count": 163,
     "metadata": {},
     "output_type": "execute_result"
    }
   ],
   "source": [
    "# Check the score when predicting not-admit result\n",
    "pipe.score(X_te[pipe.predict(X_te) == 0], y_te[pipe.predict(X_te) == 0])"
   ]
  },
  {
   "cell_type": "code",
   "execution_count": 164,
   "id": "6cf37ad6",
   "metadata": {},
   "outputs": [],
   "source": [
    "# Tools for K-fold cross validation.\n",
    "from sklearn.model_selection import cross_val_score as CVS"
   ]
  },
  {
   "cell_type": "code",
   "execution_count": 165,
   "id": "692368bd",
   "metadata": {},
   "outputs": [],
   "source": [
    "# Run a K-fold cross validation on my pipeline\n",
    "cv_scores = CVS(pipe, X_tr,y_tr, cv = 10)"
   ]
  },
  {
   "cell_type": "code",
   "execution_count": 166,
   "id": "e6e49859",
   "metadata": {},
   "outputs": [
    {
     "data": {
      "text/plain": [
       "0.7035714285714285"
      ]
     },
     "execution_count": 166,
     "metadata": {},
     "output_type": "execute_result"
    }
   ],
   "source": [
    "# Interpret the mean of the validation scores array in context\n",
    "cv_scores.mean()"
   ]
  },
  {
   "cell_type": "code",
   "execution_count": 167,
   "id": "b573f965",
   "metadata": {},
   "outputs": [
    {
     "data": {
      "text/plain": [
       "0.05986805219371503"
      ]
     },
     "execution_count": 167,
     "metadata": {},
     "output_type": "execute_result"
    }
   ],
   "source": [
    "# Interpret the standard deviation of the validation scores array in context\n",
    "cv_scores.std()"
   ]
  },
  {
   "cell_type": "markdown",
   "id": "0c9a53d6",
   "metadata": {},
   "source": [
    "### SVM"
   ]
  },
  {
   "cell_type": "code",
   "execution_count": 168,
   "id": "a8b1f6dd",
   "metadata": {},
   "outputs": [],
   "source": [
    "from sklearn.model_selection import GridSearchCV \n",
    "from sklearn.svm import SVC  \n",
    "from sklearn.metrics import accuracy_score"
   ]
  },
  {
   "cell_type": "code",
   "execution_count": 169,
   "id": "c7a0029e",
   "metadata": {},
   "outputs": [],
   "source": [
    "X_std = SS().fit_transform(X) "
   ]
  },
  {
   "cell_type": "code",
   "execution_count": 170,
   "id": "e768773f",
   "metadata": {},
   "outputs": [],
   "source": [
    "X_train, X_test, y_train, y_test  = TTS(X_std, y,test_size=0.3, random_state=325)"
   ]
  },
  {
   "cell_type": "code",
   "execution_count": 171,
   "id": "7d3924e6",
   "metadata": {},
   "outputs": [
    {
     "name": "stdout",
     "output_type": "stream",
     "text": [
      "SVC(C=0.01, kernel='linear')\n"
     ]
    }
   ],
   "source": [
    "# defining parameter range \n",
    "param_grid = {'C': [0.01,0.02,0.03,0.05,0.07,0.08,0.1,0.2,0.3,0.5,0.7,0.9,1,10,20],               \n",
    "              'kernel': ['linear']}  \n",
    "grid = GridSearchCV(SVC(), param_grid, verbose = 0, cv=3, scoring='accuracy');\n",
    "# fitting the model for grid search \n",
    "grid.fit(X_train, y_train);\n",
    "svmBest = grid.best_estimator_\n",
    "C_cv = grid.best_params_['C']\n",
    "CscoreM = grid.cv_results_['mean_test_score']\n",
    "CscoreS = grid.cv_results_['std_test_score']\n",
    "svmBest = grid.best_estimator_\n",
    "print(grid.best_estimator_) "
   ]
  },
  {
   "cell_type": "code",
   "execution_count": 172,
   "id": "42822099",
   "metadata": {},
   "outputs": [],
   "source": [
    "pipe2 = Pipeline( [('pca', PCA()), ('svc', SVC(C = 0.01)) ] )"
   ]
  },
  {
   "cell_type": "code",
   "execution_count": 173,
   "id": "39e28095",
   "metadata": {},
   "outputs": [
    {
     "data": {
      "text/plain": [
       "Pipeline(steps=[('pca', PCA()), ('svc', SVC(C=0.01))])"
      ]
     },
     "execution_count": 173,
     "metadata": {},
     "output_type": "execute_result"
    }
   ],
   "source": [
    "pipe2.fit(X_train, y_train)"
   ]
  },
  {
   "cell_type": "code",
   "execution_count": 174,
   "id": "1980d31e",
   "metadata": {},
   "outputs": [
    {
     "data": {
      "text/plain": [
       "0.6916666666666667"
      ]
     },
     "execution_count": 174,
     "metadata": {},
     "output_type": "execute_result"
    }
   ],
   "source": [
    "pipe2.score(X_test, y_test)"
   ]
  },
  {
   "cell_type": "code",
   "execution_count": 175,
   "id": "5899d43c",
   "metadata": {},
   "outputs": [],
   "source": [
    "# Run a K-fold cross validation on my pipeline\n",
    "cv_scores = CVS(pipe2, X_train,y_train, cv = 10)"
   ]
  },
  {
   "cell_type": "code",
   "execution_count": 176,
   "id": "a2309f49",
   "metadata": {},
   "outputs": [
    {
     "data": {
      "text/plain": [
       "0.6785714285714286"
      ]
     },
     "execution_count": 176,
     "metadata": {},
     "output_type": "execute_result"
    }
   ],
   "source": [
    "cv_scores.mean()"
   ]
  },
  {
   "cell_type": "code",
   "execution_count": 177,
   "id": "a9a52eee",
   "metadata": {},
   "outputs": [
    {
     "data": {
      "text/plain": [
       "0.0"
      ]
     },
     "execution_count": 177,
     "metadata": {},
     "output_type": "execute_result"
    }
   ],
   "source": [
    "cv_scores.std()"
   ]
  },
  {
   "cell_type": "markdown",
   "id": "bae35894",
   "metadata": {},
   "source": [
    "### Random Forests"
   ]
  },
  {
   "cell_type": "code",
   "execution_count": 188,
   "id": "6dfcc478",
   "metadata": {},
   "outputs": [],
   "source": [
    "from sklearn.ensemble import RandomForestClassifier"
   ]
  },
  {
   "cell_type": "code",
   "execution_count": 190,
   "id": "80bbccde",
   "metadata": {},
   "outputs": [
    {
     "name": "stdout",
     "output_type": "stream",
     "text": [
      "Fitting 10 folds for each of 64 candidates, totalling 640 fits\n",
      "Best paramters: {'criterion': 'entropy', 'max_depth': 6, 'min_samples_leaf': 4, 'min_samples_split': 2, 'n_estimators': 100})\n"
     ]
    }
   ],
   "source": [
    "param_grid = {\n",
    "    \"n_estimators\": [50, 100,200,400],\n",
    "    \"criterion\":( \"gini\", \"entropy\"), \n",
    "    \"max_depth\":([6, 12]), \n",
    "    \"min_samples_split\":[2, 4], \n",
    "    \"min_samples_leaf\":[2, 4], \n",
    "}\n",
    "#Random forest classifier\n",
    "clf = RandomForestClassifier(bootstrap=False,random_state=0)\n",
    "tree_cv = GridSearchCV(estimator=clf, param_grid = param_grid, scoring=\"accuracy\", n_jobs=-1, verbose=1, cv=10)\n",
    "tree_cv.fit(X_train, y_train)\n",
    "best_params = tree_cv.best_params_\n",
    "print(f\"Best paramters: {best_params})\")"
   ]
  },
  {
   "cell_type": "code",
   "execution_count": 191,
   "id": "4322e68e",
   "metadata": {},
   "outputs": [],
   "source": [
    "pipe3 = Pipeline( [ ('scaler', SS()),('pca', PCA()), ('randomforest', RandomForestClassifier(**best_params,random_state=0)) ] )"
   ]
  },
  {
   "cell_type": "code",
   "execution_count": 192,
   "id": "c73d877a",
   "metadata": {},
   "outputs": [
    {
     "data": {
      "text/plain": [
       "Pipeline(steps=[('scaler', StandardScaler()), ('pca', PCA()),\n",
       "                ('randomforest',\n",
       "                 RandomForestClassifier(criterion='entropy', max_depth=6,\n",
       "                                        min_samples_leaf=4, random_state=0))])"
      ]
     },
     "execution_count": 192,
     "metadata": {},
     "output_type": "execute_result"
    }
   ],
   "source": [
    "pipe3.fit(X_tr, y_tr)"
   ]
  },
  {
   "cell_type": "code",
   "execution_count": 194,
   "id": "26bcd5f0",
   "metadata": {},
   "outputs": [
    {
     "data": {
      "text/plain": [
       "0.7"
      ]
     },
     "execution_count": 194,
     "metadata": {},
     "output_type": "execute_result"
    }
   ],
   "source": [
    "pipe3.score(X_te, y_te)"
   ]
  },
  {
   "cell_type": "code",
   "execution_count": 195,
   "id": "8d3cff9e",
   "metadata": {},
   "outputs": [],
   "source": [
    "cv_scores = CVS(pipe3, X_tr,y_tr, cv = 10)"
   ]
  },
  {
   "cell_type": "code",
   "execution_count": 196,
   "id": "ae7a3e81",
   "metadata": {},
   "outputs": [
    {
     "data": {
      "text/plain": [
       "0.692857142857143"
      ]
     },
     "execution_count": 196,
     "metadata": {},
     "output_type": "execute_result"
    }
   ],
   "source": [
    "cv_scores.mean()"
   ]
  },
  {
   "cell_type": "code",
   "execution_count": 197,
   "id": "66bf63db",
   "metadata": {},
   "outputs": [
    {
     "data": {
      "text/plain": [
       "0.05578749768504751"
      ]
     },
     "execution_count": 197,
     "metadata": {},
     "output_type": "execute_result"
    }
   ],
   "source": [
    "cv_scores.std()"
   ]
  },
  {
   "cell_type": "markdown",
   "id": "bb854083",
   "metadata": {},
   "source": [
    "# Conclusion"
   ]
  },
  {
   "cell_type": "markdown",
   "id": "9b209c07",
   "metadata": {},
   "source": [
    "The scores of all 3 models fluctuate from 0.68 to 0.7. These not-high-enough scores prove that reseach experience and some other effects still play an important role in graduate admmission besides our 6 features"
   ]
  }
 ],
 "metadata": {
  "kernelspec": {
   "display_name": "Python 3",
   "language": "python",
   "name": "python3"
  },
  "language_info": {
   "codemirror_mode": {
    "name": "ipython",
    "version": 3
   },
   "file_extension": ".py",
   "mimetype": "text/x-python",
   "name": "python",
   "nbconvert_exporter": "python",
   "pygments_lexer": "ipython3",
   "version": "3.8.8"
  }
 },
 "nbformat": 4,
 "nbformat_minor": 5
}
